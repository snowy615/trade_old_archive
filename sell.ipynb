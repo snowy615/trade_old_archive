{
 "cells": [
  {
   "metadata": {},
   "cell_type": "markdown",
   "source": "place a market order to sell 10,000 GBP/USD at a limit price of 1.3300",
   "id": "1d3a369696067d39"
  },
  {
   "metadata": {},
   "cell_type": "code",
   "outputs": [],
   "execution_count": null,
   "source": "",
   "id": "93de0109a12eeb40"
  },
  {
   "metadata": {
    "collapsed": true,
    "jupyter": {
     "is_executing": true
    }
   },
   "cell_type": "code",
   "source": [
    "from ibapi.client import *\n",
    "from ibapi.wrapper import *\n",
    "\n",
    "class TestApp(EClient, EWrapper):\n",
    "    def __init__(self):\n",
    "        EClient.__init__(self, self)\n",
    "\n",
    "    def nextValidId(self, orderId: OrderId):\n",
    "        mycontract = Contract()\n",
    "        mycontract.symbol = \"GBP\"\n",
    "        mycontract.secType = \"CASH\"\n",
    "        mycontract.exchange = \"IDEALPRO\"\n",
    "        mycontract.currency = \"USD\"\n",
    "\n",
    "        self.reqContractDetails(orderId, mycontract)\n",
    "\n",
    "    def contractDetails(self, reqId: int, contractDetails: ContractDetails):\n",
    "        print(contractDetails.contract)\n",
    "\n",
    "        myorder = Order()\n",
    "        myorder.orderId = reqId\n",
    "        myorder.action = \"SELL\"\n",
    "        myorder.eTradeOnly = False\n",
    "        myorder.firmQuoteOnly = False\n",
    "        myorder.tif = \"GTC\"\n",
    "        myorder.orderType = \"LMT\"\n",
    "        myorder.lmtPrice = 1.3300  # Example limit price for GBP/USD\n",
    "        myorder.totalQuantity = 10000  # Example quantity\n",
    "\n",
    "        self.placeOrder(myorder.orderId, contractDetails.contract, myorder)\n",
    "\n",
    "    def openOrder(self, orderId: OrderId, contract: Contract, order: Order, orderState: OrderState):\n",
    "        print(f\"openOrder. orderId: {orderId}, contract: {contract}, order: {order}\")\n",
    "\n",
    "    def execDetails(self, reqId: int, contract: Contract, execution: Execution):\n",
    "        print(f\"reqId: {reqId}, contract: {contract}, execution: {execution}\")\n",
    "\n",
    "app = TestApp()\n",
    "app.connect(\"127.0.0.1\", 7497, 200)\n",
    "app.run()"
   ],
   "id": "initial_id",
   "outputs": [],
   "execution_count": null
  },
  {
   "metadata": {},
   "cell_type": "code",
   "outputs": [],
   "execution_count": null,
   "source": "",
   "id": "a34ac08cd3f66274"
  }
 ],
 "metadata": {
  "kernelspec": {
   "display_name": "Python 3",
   "language": "python",
   "name": "python3"
  },
  "language_info": {
   "codemirror_mode": {
    "name": "ipython",
    "version": 2
   },
   "file_extension": ".py",
   "mimetype": "text/x-python",
   "name": "python",
   "nbconvert_exporter": "python",
   "pygments_lexer": "ipython2",
   "version": "2.7.6"
  }
 },
 "nbformat": 4,
 "nbformat_minor": 5
}
